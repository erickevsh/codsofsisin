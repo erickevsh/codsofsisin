{
 "cells": [
  {
   "cell_type": "code",
   "execution_count": null,
   "id": "82b02b07-d9d8-4eaa-b023-9b9972a47b5c",
   "metadata": {},
   "outputs": [],
   "source": [
    "class Padre:\n",
    "    mama = \"madre\"\n",
    "    papa = \"padre\"\n",
    "\n",
    "class hijo(Padre):\n",
    "    _hijo1 = \"charly\"\n",
    "    def calificacion(self):\n",
    "        print(\"10\")\n",
    "\n",
    "class hijo2(Padre):\n",
    "    _hijo2 = \"pedro\"\n",
    "    def calificacion(self):\n",
    "        print(\"8\")\n",
    "\n",
    "\n",
    "la_calificacion = hijo()\n",
    "segundo = hijo2()\n",
    "print(segundo.calificacion())\n",
    "prin"
   ]
  }
 ],
 "metadata": {
  "kernelspec": {
   "display_name": "Python [conda env:base] *",
   "language": "python",
   "name": "conda-base-py"
  },
  "language_info": {
   "codemirror_mode": {
    "name": "ipython",
    "version": 3
   },
   "file_extension": ".py",
   "mimetype": "text/x-python",
   "name": "python",
   "nbconvert_exporter": "python",
   "pygments_lexer": "ipython3",
   "version": "3.12.7"
  }
 },
 "nbformat": 4,
 "nbformat_minor": 5
}
