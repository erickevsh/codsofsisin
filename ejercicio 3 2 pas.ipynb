{
 "cells": [
  {
   "cell_type": "code",
   "execution_count": 25,
   "id": "d664a55a-4312-4c7b-9a9f-67e6b1cab028",
   "metadata": {},
   "outputs": [
    {
     "name": "stdout",
     "output_type": "stream",
     "text": [
      "(<class '__main__.hijo'>, <class '__main__.Madre'>, <class '__main__.Padre'>, <class '__main__.Abuelo'>, <class 'object'>)\n"
     ]
    }
   ],
   "source": [
    "class Abuelo:\n",
    "    pass\n",
    "class Padre(Abuelo):\n",
    "    pass\n",
    "\n",
    "class Madre:\n",
    "    pass\n",
    "    \n",
    "class hijo(Madre,Padre):\n",
    "    pass\n",
    "print(hijo.__mro__)\n"
   ]
  },
  {
   "cell_type": "code",
   "execution_count": null,
   "id": "6a0a5d60-89ab-47c2-9878-cfe941f3d7d1",
   "metadata": {},
   "outputs": [],
   "source": []
  }
 ],
 "metadata": {
  "kernelspec": {
   "display_name": "Python [conda env:base] *",
   "language": "python",
   "name": "conda-base-py"
  },
  "language_info": {
   "codemirror_mode": {
    "name": "ipython",
    "version": 3
   },
   "file_extension": ".py",
   "mimetype": "text/x-python",
   "name": "python",
   "nbconvert_exporter": "python",
   "pygments_lexer": "ipython3",
   "version": "3.12.7"
  }
 },
 "nbformat": 4,
 "nbformat_minor": 5
}
